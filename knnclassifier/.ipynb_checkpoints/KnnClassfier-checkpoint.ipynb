{
 "cells": [
  {
   "cell_type": "code",
   "execution_count": 1,
   "metadata": {},
   "outputs": [],
   "source": [
    "import numpy as np\n",
    "import cv2\n",
    "import os\n",
    "from sklearn.neighbors import KNeighborsClassifier\n",
    "from sklearn.preprocessing import LabelEncoder\n",
    "from sklearn.model_selection import train_test_split\n",
    "from sklearn.metrics import classification_report\n",
    "from imutils import paths\n",
    "import argparse"
   ]
  },
  {
   "cell_type": "code",
   "execution_count": 2,
   "metadata": {},
   "outputs": [],
   "source": [
    "class SimpleDatasetLoader:\n",
    "\tdef __init__(self, preprocessors=None):\n",
    "\t\t# store the image preprocessor\n",
    "\t\tself.preprocessors = preprocessors\n",
    "\n",
    "\t\t# if the preprocessors are None, initialize them as an\n",
    "\t\t# empty list\n",
    "\t\tif self.preprocessors is None:\n",
    "\t\t\tself.preprocessors = []\n",
    "\n",
    "\tdef load(self, imagePaths, verbose=-1):\n",
    "\t\t# initialize the list of features and labels\n",
    "\t\tdata = []\n",
    "\t\tlabels = []\n",
    "\n",
    "\t\t# loop over the input images\n",
    "\t\tfor (i, imagePath) in enumerate(imagePaths):\n",
    "\t\t\t# load the image and extract the class label assuming\n",
    "\t\t\t# that our path has the following format:\n",
    "\t\t\t# /path/to/dataset/{class}/{image}.jpg\n",
    "\t\t\timage = cv2.imread(imagePath)\n",
    "\t\t\tlabel = imagePath.split(os.path.sep)[-2]\n",
    "\n",
    "\t\t\t# check to see if our preprocessors are not None\n",
    "\t\t\tif self.preprocessors is not None:\n",
    "\t\t\t\t# loop over the preprocessors and apply each to\n",
    "\t\t\t\t# the image\n",
    "\t\t\t\tfor p in self.preprocessors:\n",
    "\t\t\t\t\timage = p.preprocess(image)\n",
    "\n",
    "\t\t\t# treat our processed image as a \"feature vector\"\n",
    "\t\t\t# by updating the data list followed by the labels\n",
    "\t\t\tdata.append(image)\n",
    "\t\t\tlabels.append(label)\n",
    "\n",
    "\t\t\t# show an update every `verbose` images\n",
    "\t\t\tif verbose > 0 and i > 0 and (i + 1) % verbose == 0:\n",
    "\t\t\t\tprint(\"[INFO] processed {}/{}\".format(i + 1,\n",
    "\t\t\t\t\tlen(imagePaths)))\n",
    "\n",
    "\t\t# return a tuple of the data and labels\n",
    "\t\treturn (np.array(data), np.array(labels))"
   ]
  },
  {
   "cell_type": "code",
   "execution_count": 3,
   "metadata": {},
   "outputs": [],
   "source": [
    "class SimplePreprocessor:\n",
    "\tdef __init__(self, width, height, inter=cv2.INTER_AREA):\n",
    "\t\t# store the target image width, height, and interpolation\n",
    "\t\t# method used when resizing\n",
    "\t\tself.width = width\n",
    "\t\tself.height = height\n",
    "\t\tself.inter = inter\n",
    "\n",
    "\tdef preprocess(self, image):\n",
    "\t\t# resize the image to a fixed size, ignoring the aspect\n",
    "\t\t# ratio\n",
    "\t\treturn cv2.resize(image, (self.width, self.height),\n",
    "\t\t\tinterpolation=self.inter)"
   ]
  },
  {
   "cell_type": "code",
   "execution_count": 4,
   "metadata": {},
   "outputs": [
    {
     "name": "stdout",
     "output_type": "stream",
     "text": [
      "[INFO] loading images...\n",
      "[INFO] processed 500/3000\n",
      "[INFO] processed 1000/3000\n",
      "[INFO] processed 1500/3000\n",
      "[INFO] processed 2000/3000\n",
      "[INFO] processed 2500/3000\n",
      "[INFO] processed 3000/3000\n"
     ]
    }
   ],
   "source": [
    "# grab the list of images that we'll be describing\n",
    "print(\"[INFO] loading images...\")\n",
    "imagePaths = list(paths.list_images(\"/home/abhijit/computervision/knnclassifier/datasets/animals\"))\n",
    "\n",
    "# initialize the image preprocessor, load the dataset from disk,\n",
    "# and reshape the data matrix\n",
    "sp = SimplePreprocessor(32, 32)\n",
    "sdl = SimpleDatasetLoader(preprocessors=[sp])\n",
    "(data, labels) = sdl.load(imagePaths, verbose=500)\n",
    "data = data.reshape((data.shape[0], 3072))"
   ]
  },
  {
   "cell_type": "code",
   "execution_count": 5,
   "metadata": {},
   "outputs": [
    {
     "name": "stdout",
     "output_type": "stream",
     "text": [
      "[INFO] features matrix: 8.8MB\n"
     ]
    }
   ],
   "source": [
    "# show some information on memory consumption of the images\n",
    "print(\"[INFO] features matrix: {:.1f}MB\".format(\n",
    "\tdata.nbytes / (1024 * 1024.0)))"
   ]
  },
  {
   "cell_type": "code",
   "execution_count": 6,
   "metadata": {},
   "outputs": [],
   "source": [
    "# encode the labels as integers\n",
    "le = LabelEncoder()\n",
    "labels = le.fit_transform(labels)"
   ]
  },
  {
   "cell_type": "code",
   "execution_count": 7,
   "metadata": {},
   "outputs": [],
   "source": [
    "# partition the data into training and testing splits using 75% of\n",
    "# the data for training and the remaining 25% for testing\n",
    "(trainX, testX, trainY, testY) = train_test_split(data, labels,\n",
    "\ttest_size=0.25, random_state=42)"
   ]
  },
  {
   "cell_type": "code",
   "execution_count": 8,
   "metadata": {},
   "outputs": [
    {
     "name": "stdout",
     "output_type": "stream",
     "text": [
      "[INFO] evaluating k-NN classifier...\n",
      "              precision    recall  f1-score   support\n",
      "\n",
      "        cats       0.36      0.57      0.44       239\n",
      "        dogs       0.37      0.41      0.39       249\n",
      "       panda       0.90      0.33      0.48       262\n",
      "\n",
      "    accuracy                           0.43       750\n",
      "   macro avg       0.54      0.44      0.44       750\n",
      "weighted avg       0.55      0.43      0.44       750\n",
      "\n"
     ]
    }
   ],
   "source": [
    "# train and evaluate a k-NN classifier on the raw pixel intensities\n",
    "print(\"[INFO] evaluating k-NN classifier...\")\n",
    "model = KNeighborsClassifier(n_neighbors=3)\n",
    "model.fit(trainX, trainY)\n",
    "print(classification_report(testY, model.predict(testX),\n",
    "\ttarget_names=le.classes_))"
   ]
  }
 ],
 "metadata": {
  "kernelspec": {
   "display_name": "Python3 (dl4cv)",
   "language": "python",
   "name": "dl4cv"
  },
  "language_info": {
   "codemirror_mode": {
    "name": "ipython",
    "version": 3
   },
   "file_extension": ".py",
   "mimetype": "text/x-python",
   "name": "python",
   "nbconvert_exporter": "python",
   "pygments_lexer": "ipython3",
   "version": "3.6.9"
  }
 },
 "nbformat": 4,
 "nbformat_minor": 4
}
